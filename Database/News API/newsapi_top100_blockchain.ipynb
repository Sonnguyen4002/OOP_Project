{
 "cells": [
  {
   "cell_type": "code",
   "execution_count": 2,
   "metadata": {},
   "outputs": [
    {
     "name": "stdout",
     "output_type": "stream",
     "text": [
      "CSV file 'top100_blockchain.csv' updated successfully.\n"
     ]
    }
   ],
   "source": [
    "from newsapi import NewsApiClient\n",
    "import csv\n",
    "import os\n",
    "\n",
    "# Create a NewsClient class to handle API interactions.\n",
    "class NewsClient:\n",
    "    def __init__(self, api_key):\n",
    "        self.newsapi = NewsApiClient(api_key=api_key)\n",
    "\n",
    "    def get_articles(self, query, language='en', page_size=100, sort_by='publishedAt'):\n",
    "        articles = self.newsapi.get_everything(q=query,\n",
    "                                               language=language,\n",
    "                                               page_size=page_size,\n",
    "                                               sort_by=sort_by)\n",
    "        return articles['articles']"
   ]
  },
  {
   "cell_type": "code",
   "execution_count": null,
   "metadata": {},
   "outputs": [],
   "source": [
    "# Create an Article class to represent article details.\n",
    "class Article:\n",
    "    def __init__(self, article_data, article_id):\n",
    "        self.id = article_id\n",
    "        self.link = article_data['url']\n",
    "        self.source = article_data['source']['name']\n",
    "        self.type = self.get_article_type(self.source)\n",
    "        self.title = article_data['title']\n",
    "        self.summary = article_data['description'] if article_data['description'] else \"N/A\"\n",
    "        self.content = article_data['content'] if article_data['content'] else \"N/A\"\n",
    "        self.publish_date = article_data['publishedAt']\n",
    "        self.tags = \"N/A\"\n",
    "        self.author = article_data['author'] if article_data['author'] else \"N/A\"\n",
    "        self.category = article_data.get('category', \"N/A\")\n",
    "        self.image = article_data['urlToImage'] if article_data['urlToImage'] else \"N/A\"\n",
    "\n",
    "    @staticmethod\n",
    "    def get_article_type(source_name):\n",
    "        if 'twitter' in source_name.lower():\n",
    "            return 'Tweet'\n",
    "        elif 'facebook' in source_name.lower():\n",
    "            return 'Facebook Post'\n",
    "        else:\n",
    "            return 'News Article'\n",
    "\n",
    "    def to_dict(self):\n",
    "        return {\n",
    "            \"id\": self.id,\n",
    "            \"link\": self.link,\n",
    "            \"source\": self.source,\n",
    "            \"type\": self.type,\n",
    "            \"title\": self.title,\n",
    "            \"summary\": self.summary,\n",
    "            \"content\": self.content,\n",
    "            \"publishDate\": self.publish_date,\n",
    "            \"tags\": self.tags,\n",
    "            \"author\": self.author,\n",
    "            \"category\": self.category,\n",
    "            \"image\": self.image\n",
    "        }"
   ]
  },
  {
   "cell_type": "code",
   "execution_count": null,
   "metadata": {},
   "outputs": [],
   "source": [
    "# Create a CSVHandler class to manage CSV file operations.\n",
    "class CSVHandler:\n",
    "    def __init__(self, filename):\n",
    "        self.filename = filename\n",
    "\n",
    "    def file_exists(self):\n",
    "        return os.path.isfile(self.filename)\n",
    "\n",
    "    def get_current_max_id(self):\n",
    "        current_max_id = 0\n",
    "        if self.file_exists():\n",
    "            with open(self.filename, mode='r', newline='') as file:\n",
    "                reader = csv.DictReader(file)\n",
    "                for row in reader:\n",
    "                    current_max_id = max(current_max_id, int(row['id']))\n",
    "        return current_max_id\n",
    "\n",
    "    def write_articles(self, articles):\n",
    "        file_exists = self.file_exists()\n",
    "\n",
    "        with open(self.filename, mode='w', newline='') as file:\n",
    "            writer = csv.DictWriter(file, fieldnames=[\n",
    "                \"id\", \"link\", \"source\", \"type\", \"title\", \"summary\", \"content\", \"publishDate\", \"tags\", \"author\", \"category\", \"image\"\n",
    "            ])\n",
    "\n",
    "            if not file_exists:\n",
    "                writer.writeheader()\n",
    "\n",
    "            for article in articles:\n",
    "                writer.writerow(article.to_dict())"
   ]
  },
  {
   "cell_type": "code",
   "execution_count": null,
   "metadata": {},
   "outputs": [],
   "source": [
    "# Use classes in a main function to orchestrate the workflow.\n",
    "def main():\n",
    "    api_key = '9264da2e99d64499b3175a5029bd6d9a'\n",
    "    query = 'blockchain'\n",
    "    language = 'en'\n",
    "    sort_by = 'popularity'\n",
    "\n",
    "    news_client = NewsClient(api_key)\n",
    "    articles_data = news_client.get_articles(query, language, sort_by=sort_by)\n",
    "\n",
    "    csv_handler = CSVHandler('top100_blockchain.csv')\n",
    "    current_max_id = csv_handler.get_current_max_id()\n",
    "\n",
    "    articles = [Article(article_data, current_max_id + i) for i, article_data in enumerate(articles_data, start=1)]\n",
    "\n",
    "    csv_handler.write_articles(articles)\n",
    "\n",
    "    print(\"CSV file 'top100_blockchain.csv' updated successfully.\")\n",
    "\n",
    "if __name__ == \"__main__\":\n",
    "    main()"
   ]
  }
 ],
 "metadata": {
  "kernelspec": {
   "display_name": "Python 3",
   "language": "python",
   "name": "python3"
  },
  "language_info": {
   "codemirror_mode": {
    "name": "ipython",
    "version": 3
   },
   "file_extension": ".py",
   "mimetype": "text/x-python",
   "name": "python",
   "nbconvert_exporter": "python",
   "pygments_lexer": "ipython3",
   "version": "3.12.2"
  }
 },
 "nbformat": 4,
 "nbformat_minor": 2
}
